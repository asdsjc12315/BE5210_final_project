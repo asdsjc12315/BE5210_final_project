{
  "nbformat": 4,
  "nbformat_minor": 0,
  "metadata": {
    "colab": {
      "provenance": []
    },
    "kernelspec": {
      "name": "python3",
      "display_name": "Python 3"
    },
    "language_info": {
      "name": "python"
    }
  },
  "cells": [
    {
      "cell_type": "code",
      "execution_count": 1,
      "metadata": {
        "id": "RX9ofEEVkRLP"
      },
      "outputs": [],
      "source": [
        "from scipy.io import loadmat\n",
        "\n",
        "data = loadmat('raw_training_data.mat')"
      ]
    },
    {
      "cell_type": "code",
      "source": [
        "data"
      ],
      "metadata": {
        "colab": {
          "base_uri": "https://localhost:8080/"
        },
        "id": "d6uch84QlkJl",
        "outputId": "0f06a43e-47c4-4cd1-906e-c5c51e00bb63"
      },
      "execution_count": 2,
      "outputs": [
        {
          "output_type": "execute_result",
          "data": {
            "text/plain": [
              "{'__header__': b'MATLAB 5.0 MAT-file, Platform: MACI64, Created on: Fri Apr 10 12:52:24 2020',\n",
              " '__version__': '1.0',\n",
              " '__globals__': [],\n",
              " 'train_dg': array([[array([[-0.11974525, -0.36549759, -0.73717308, -0.51092148, -0.71658897],\n",
              "                [-0.11974525, -0.36549759, -0.73717308, -0.51092148, -0.71658897],\n",
              "                [-0.11974525, -0.36549759, -0.73717308, -0.51092148, -0.71658897],\n",
              "                ...,\n",
              "                [ 2.0240593 , -0.35267067, -0.19278526, -0.19677258, -0.27182388],\n",
              "                [ 2.00303459, -0.35165787, -0.19276047, -0.19695473, -0.27204323],\n",
              "                [ 1.98193359, -0.3506403 , -0.19273472, -0.19713593, -0.27226353]])],\n",
              "        [array([[-0.69935513, -0.12379456, -0.20017529,  4.42933369, -0.51332283],\n",
              "                [-0.69935513, -0.12379456, -0.20017529,  4.42933369, -0.51332283],\n",
              "                [-0.69935513, -0.12379456, -0.20017529,  4.42933369, -0.51332283],\n",
              "                ...,\n",
              "                [-0.59470844,  0.30090046, -0.35142422,  0.05770493,  0.04432487],\n",
              "                [-0.59465694,  0.30065536, -0.35142422,  0.0579443 ,  0.04527092],\n",
              "                [-0.59460258,  0.30041122, -0.35142326,  0.05818367,  0.04621601]])],\n",
              "        [array([[-0.00501347,  0.68820906,  2.57802963,  0.48578787,  0.02674103],\n",
              "                [-0.00501347,  0.68820906,  2.57802963,  0.48578787,  0.02674103],\n",
              "                [-0.00501347,  0.68820906,  2.57802963,  0.48578787,  0.02674103],\n",
              "                ...,\n",
              "                [-0.24686241, -0.94949675, -0.25215101, -0.45340061, -0.56300163],\n",
              "                [-0.24658966, -0.94949961, -0.25224686, -0.45382118, -0.56321907],\n",
              "                [-0.24631977, -0.94950056, -0.25234175, -0.45423698, -0.56343555]])]],\n",
              "       dtype=object),\n",
              " 'train_ecog': array([[array([[  612, -1490,  -996, ...,   205,  1046,  -214],\n",
              "                [  814, -1367,  -649, ...,   399,  1241,   -71],\n",
              "                [ 1111, -1182,  -318, ...,   642,  1459,    64],\n",
              "                ...,\n",
              "                [   83,  2673,  1550, ...,   790,  1269, -2325],\n",
              "                [  421,  2650,  1402, ...,   587,  1177, -2254],\n",
              "                [  823,  2686,  1346, ...,   507,  1155, -2088]], dtype=int32)],\n",
              "        [array([[-3900,  -870,  2067, ...,  -229,   639,   185],\n",
              "                [-3837,  -569,  2067, ...,   -21,   883,   279],\n",
              "                [-3664,  -323,  2049, ...,   150,  1048,   354],\n",
              "                ...,\n",
              "                [  227, -1136,   761, ..., -1567, -2540,   136],\n",
              "                [  477, -1107,  1059, ..., -1256, -2096,   246],\n",
              "                [  741, -1094,  1335, ...,  -928, -1680,   344]], dtype=int32)],\n",
              "        [array([[ 1888,  -915,   260, ..., -2160,  1388,  -335],\n",
              "                [ 1219, -1187,  -162, ..., -2841,  1065,  -728],\n",
              "                [  992, -1030,   -72, ..., -2947,  1136,  -720],\n",
              "                ...,\n",
              "                [  227,   436,   -61, ...,   566,  1894,  3444],\n",
              "                [  -11,   208,  -420, ...,   159,  1796,  3399],\n",
              "                [ -196,    58,  -675, ...,  -187,  1723,  3385]], dtype=int32)]],\n",
              "       dtype=object)}"
            ]
          },
          "metadata": {},
          "execution_count": 2
        }
      ]
    },
    {
      "cell_type": "code",
      "source": [
        "#filter function\n",
        "def filter_ecog(raw_ecog, lowfreq=1, highfreq=100, fs=1000, order=301, notch_freq=60.0):\n",
        "  '''\n",
        "  Function to filter raw ecog\n",
        "\n",
        "  Inputs:\n",
        "  raw_ecog = numpy array of raw signal\n",
        "  lowfreq = lower end of bandpass. Uses 1Hz\n",
        "  highfreq = high end of band pass. 110Hz\n",
        "  fs = sampling frequency. 1000Hz\n",
        "  order = order of filter. 4\n",
        "  notch_freq = frequency of notch filter. 60Hz\n",
        "  Q = quality factor for notch filter. 30\n",
        "\n",
        "  Outputs:\n",
        "  filtered_ecog = numpy array of filtered signal\n",
        "  '''\n",
        "\n",
        "  from scipy.signal import firwin, filtfilt\n",
        "\n",
        "  nyq = fs / 2\n",
        "  low = lowfreq / nyq\n",
        "  high = highfreq / nyq\n",
        "\n",
        "  # Bandpass filter (1–100 Hz)\n",
        "  bandpass_fir = firwin(order, [low, high], pass_zero=False)\n",
        "\n",
        "  # Notch filter at 60 Hz (narrow bandstop)\n",
        "  notch_fir = firwin(order, [(notch_freq - 1)/nyq, (notch_freq + 1)/nyq], pass_zero=True)\n",
        "\n",
        "  # Apply bandpass filter first\n",
        "  filtered_signal = filtfilt(bandpass_fir, [1.0], raw_ecog, axis=0)\n",
        "\n",
        "  # Apply notch filter\n",
        "  filtered_ecog = filtfilt(notch_fir, [1.0], filtered_signal, axis=0)\n",
        "\n",
        "  return filtered_ecog"
      ],
      "metadata": {
        "id": "m1g9pqe8mqW2"
      },
      "execution_count": 9,
      "outputs": []
    },
    {
      "cell_type": "code",
      "source": [
        "from scipy.fft import fft, fftfreq\n",
        "\n",
        "raw_ecog = data['train_ecog'][0][0]\n",
        "raw_ch = raw_ecog[:, 0]\n",
        "filtered_ch = filter_ecog(raw_ch)\n",
        "\n",
        "# FFT\n",
        "raw_fft = fft(raw_ch)\n",
        "filt_fft = fft(filtered_ch)\n",
        "\n",
        "from scipy.fft import fft, fftfreq\n",
        "import matplotlib.pyplot as plt\n",
        "import numpy as np\n",
        "\n",
        "fs = 1000  # Hz\n",
        "N = len(raw_ch)  # total samples\n",
        "timestep = 1 / fs\n",
        "\n",
        "# Pick one channel\n",
        "raw_ch = raw_ecog[:, 0]\n",
        "filtered_ch = filter_ecog(raw_ch)\n",
        "\n",
        "# FFT\n",
        "raw_fft = fft(raw_ch)\n",
        "filt_fft = fft(filtered_ch)\n",
        "freqs = fftfreq(N, timestep)\n",
        "\n",
        "# Plot positive frequencies only\n",
        "plt.figure(figsize=(10, 4))\n",
        "plt.plot(freqs[:N//2], np.abs(raw_fft[:N//2]), label='Raw')\n",
        "plt.plot(freqs[:N//2], np.abs(filt_fft[:N//2]), label='Filtered')\n",
        "plt.xlabel(\"Frequency (Hz)\")\n",
        "plt.ylabel(\"Amplitude\")\n",
        "plt.title(\"FFT of Raw vs Filtered Signal (Channel 0)\")\n",
        "plt.legend()\n",
        "plt.grid(True)\n",
        "plt.tight_layout()\n",
        "plt.xlim(0,150)\n",
        "#plt.ylim(0, 1e7/5)\n",
        "plt.yscale('log')\n",
        "plt.show()\n"
      ],
      "metadata": {
        "colab": {
          "base_uri": "https://localhost:8080/",
          "height": 407
        },
        "id": "DoO4yCt9tKlx",
        "outputId": "9595dab9-c969-430a-8705-e26c3c11f205"
      },
      "execution_count": 10,
      "outputs": [
        {
          "output_type": "display_data",
          "data": {
            "text/plain": [
              "<Figure size 1000x400 with 1 Axes>"
            ],
            "image/png": "[encoded data removed]"
          },
          "metadata": {}
        }
      ]
    },
    {
      "cell_type": "markdown",
      "source": [
        "Initial FFT analysis of butterworth alone showed there were 60Hz peak that was removed with notch filter. Band pass shown to worked especially near the 0-5Hz range where low frequency drift occurs. Also low amplitude shown after 100Hz. Though raw signal also has los amplitude there. But 120Hz peak in raw is not in filtered so assuming bandpass works."
      ],
      "metadata": {
        "id": "SvdY7ky0yGv0"
      }
    },
    {
      "cell_type": "code",
      "source": [
        "#Get windows\n",
        "def get_windows(filtered_ecog, fs = 1000, winLen = 0.1, winShift = 0.05):\n",
        "  '''\n",
        "  Function to get the windows in the filtered signal\n",
        "\n",
        "  Inputs\n",
        "  filtered_ecog = numpy array of filtered ecog\n",
        "  fs = sampling frequency. 1000Hz\n",
        "  winLen = window length in seconds. 0.1\n",
        "  winShift = window shift in seconds. 0.05\n",
        "\n",
        "  Outputs\n",
        "  window_data = list of numpy arrays of windows\n",
        "  '''\n",
        "  import numpy as np\n",
        "\n",
        "  #initialize windows\n",
        "  window_data = []\n",
        "\n",
        "  #get number of windows\n",
        "  xLen = len(filtered_ecog) #get length of signal\n",
        "  sam_WL = int(winLen * fs) #convert windoe length to number of samples\n",
        "  sam_WS = int(winShift * fs) #convert window displacement to number of samples\n",
        "  NumWins = int((xLen - sam_WL) / sam_WS) + 1 #return number of full windows\n",
        "\n",
        "  for i in range(NumWins):\n",
        "    #get window\n",
        "    filtered_window = filtered_ecog[i*sam_WS:(i*sam_WS)+sam_WL,:]\n",
        "    window_data.append(filtered_window) #append to list\n",
        "\n",
        "  #np vstack to make windows a 3D array\n",
        "  window_data = np.stack(window_data)\n",
        "\n",
        "\n",
        "  return window_data"
      ],
      "metadata": {
        "id": "myDSnPu-4wSp"
      },
      "execution_count": 11,
      "outputs": []
    },
    {
      "cell_type": "markdown",
      "source": [
        "Will experiment with different window lengths and shifts to decide best approach best on training data"
      ],
      "metadata": {
        "id": "DapKcG9V6cnr"
      }
    },
    {
      "cell_type": "code",
      "source": [
        "def calc_features(windows, fs=1000):\n",
        "    '''\n",
        "    Function to calculate features from windows\n",
        "\n",
        "    Inputs\n",
        "      windows: numpy array of shape (N, S, C)\n",
        "      fs: sampling frequency (default 1000Hz)\n",
        "\n",
        "    Outputs\n",
        "      features: numpy array of shape (N, C × F)\n",
        "    '''\n",
        "    import numpy as np\n",
        "\n",
        "    N, S, C = windows.shape\n",
        "\n",
        "    # Time-domain features\n",
        "    logvar = np.log(np.var(windows, axis=1) + 1e-8)\n",
        "    slope = np.sum(np.abs(np.diff(windows, axis=1)), axis=1)\n",
        "    log_energy = np.log(np.sum(windows ** 2, axis=1) + 1e-8)\n",
        "    zcr = np.sum(np.diff(np.sign(windows), axis=1) != 0, axis=1)\n",
        "\n",
        "    # Frequency-domain features\n",
        "    fft_vals = np.abs(np.fft.rfft(windows, axis=1))  # (N, F, C)\n",
        "    freqs = np.fft.rfftfreq(S, d=1/fs)\n",
        "\n",
        "    beta_mask = (freqs >= 13) & (freqs < 30)\n",
        "    high_gamma_mask = (freqs >= 70) & (freqs < 100)\n",
        "\n",
        "    beta = fft_vals[:, beta_mask, :].mean(axis=1)\n",
        "    high_gamma = fft_vals[:, high_gamma_mask, :].mean(axis=1)\n",
        "\n",
        "    # Relative gamma\n",
        "    total_power = fft_vals.mean(axis=1) + 1e-8\n",
        "    relative_gamma = high_gamma / total_power\n",
        "\n",
        "    # Stack features: shape → (N, C, num_features)\n",
        "    features = np.stack([logvar, slope, log_energy, zcr, beta, high_gamma, relative_gamma], axis=-1)\n",
        "\n",
        "    # Reshape to (N, C × num_features)\n",
        "    return features.reshape(N, -1)"
      ],
      "metadata": {
        "id": "59yhwsB16m6m"
      },
      "execution_count": 13,
      "outputs": []
    },
    {
      "cell_type": "code",
      "source": [
        "raw_ecog = data['train_ecog'][0][0] #for first subject\n",
        "filtered_ecog = filter_ecog(raw_ecog) #filtered signal\n",
        "windows = get_windows(filtered_ecog) #separate into windows\n",
        "features = calc_features(windows) # get features\n"
      ],
      "metadata": {
        "id": "sDq_OoZqBDDb"
      },
      "execution_count": 14,
      "outputs": []
    },
    {
      "cell_type": "code",
      "source": [
        "print(raw_ecog.shape)\n",
        "print(filtered_ecog.shape)\n",
        "print(windows.shape)\n",
        "print(features.shape)"
      ],
      "metadata": {
        "colab": {
          "base_uri": "https://localhost:8080/"
        },
        "id": "LwsR8nkbFXG2",
        "outputId": "ac2b4394-8af9-4df1-8792-52ba12c65353"
      },
      "execution_count": 15,
      "outputs": [
        {
          "output_type": "stream",
          "name": "stdout",
          "text": [
            "(300000, 62)\n",
            "(300000, 62)\n",
            "(5999, 100, 62)\n",
            "(5999, 434)\n"
          ]
        }
      ]
    },
    {
      "cell_type": "code",
      "source": [
        "raw_dg = data['train_dg'][0][0] #for first subject"
      ],
      "metadata": {
        "id": "pbIeT6SHJEbs"
      },
      "execution_count": 16,
      "outputs": []
    },
    {
      "cell_type": "code",
      "source": [
        "raw_dg.shape"
      ],
      "metadata": {
        "colab": {
          "base_uri": "https://localhost:8080/"
        },
        "id": "iQEqgOPoJwB0",
        "outputId": "de05e49e-8777-40c1-ac4b-b6b8e5b37375"
      },
      "execution_count": 17,
      "outputs": [
        {
          "output_type": "execute_result",
          "data": {
            "text/plain": [
              "(300000, 5)"
            ]
          },
          "metadata": {},
          "execution_count": 17
        }
      ]
    },
    {
      "cell_type": "code",
      "source": [
        "def downsample_dg(raw_dg, features, fs=1000, lag=0.037, WinLen=0.1, WinShift=0.05):\n",
        "  '''\n",
        "  Function to downsample dg\n",
        "\n",
        "  Inputs\n",
        "  raw_dg = numpy array of raw dg\n",
        "  features = numpy array of features\n",
        "  fs = sampling frequency. 1000Hz\n",
        "  lag = lag in seconds. 0.037\n",
        "  WinLen = window length in seconds. 0.1\n",
        "  winShift = window shift in seconds. 0.05\n",
        "\n",
        "  Outputs\n",
        "  down_dg = numpy array of downsampled dg\n",
        "  '''\n",
        "  NumWins = features.shape[0]\n",
        "  SamWD = int(WinLen * fs) #convert window length to number of samples\n",
        "  SamWS = int(WinShift * fs) #convert window displacement to number of samples\n",
        "  centers = np.arange(NumWins) * SamWS + SamWD // 2 #get center of each window\n",
        "\n",
        "  #add lag from paper\n",
        "  lag_samples = int(lag * fs)\n",
        "  centers = centers + lag_samples\n",
        "\n",
        "  #get downsampled dataglove\n",
        "  down_dg = raw_dg[centers]\n",
        "\n",
        "  return down_dg\n",
        "\n",
        "\n"
      ],
      "metadata": {
        "id": "VZvy3XXgKEwF"
      },
      "execution_count": 18,
      "outputs": []
    },
    {
      "cell_type": "code",
      "source": [
        "raw_dg = data['train_dg'][0][0] #for first subject\n",
        "down_dg = downsample_dg(raw_dg, features)"
      ],
      "metadata": {
        "id": "ZCbHGwEnLtOH"
      },
      "execution_count": 19,
      "outputs": []
    },
    {
      "cell_type": "code",
      "source": [
        "from sklearn.linear_model import RidgeCV\n",
        "from sklearn.preprocessing import StandardScaler\n",
        "from sklearn.metrics import r2_score\n",
        "\n",
        "# X: your full feature matrix (samples x features)\n",
        "# y: your downsampled data glove (samples x 5)\n",
        "# Make sure X and y are aligned (same number of rows)\n",
        "\n",
        "# Scale features\n",
        "scaler = StandardScaler()\n",
        "X_scaled = scaler.fit_transform(features)\n",
        "\n",
        "# Train a separate Ridge model for each finger\n",
        "alphas = np.logspace(-4, 4, 50)\n",
        "models1 = []\n",
        "r2_scores = []\n",
        "\n",
        "for i in range(5):  # For each finger\n",
        "    y_finger = down_dg[:, i]\n",
        "    ridge = RidgeCV(alphas=alphas)\n",
        "    ridge.fit(X_scaled, y_finger)\n",
        "\n",
        "    y_pred = ridge.predict(X_scaled)\n",
        "    score = r2_score(y_finger, y_pred)\n",
        "\n",
        "    models1.append(ridge)\n",
        "    r2_scores.append(score)\n",
        "\n",
        "    print(f\"Finger {i}: R² = {score:.4f}, Alpha = {ridge.alpha_:.4f}\")"
      ],
      "metadata": {
        "colab": {
          "base_uri": "https://localhost:8080/"
        },
        "id": "wyEcANZbaUL1",
        "outputId": "5e83bdde-83cf-47d8-f7f6-6a9ac39b6060"
      },
      "execution_count": 25,
      "outputs": [
        {
          "output_type": "stream",
          "name": "stdout",
          "text": [
            "Finger 0: R² = 0.1896, Alpha = 1526.4180\n",
            "Finger 1: R² = 0.1957, Alpha = 1526.4180\n",
            "Finger 2: R² = 0.1365, Alpha = 2222.9965\n",
            "Finger 3: R² = 0.1989, Alpha = 1526.4180\n",
            "Finger 4: R² = 0.1484, Alpha = 2222.9965\n"
          ]
        }
      ]
    },
    {
      "cell_type": "markdown",
      "source": [
        "Best features appear to be high gamma and slope. Test with those two"
      ],
      "metadata": {
        "id": "3IZDyZ0LUW5s"
      }
    },
    {
      "cell_type": "code",
      "source": [
        "import pickle\n",
        "\n",
        "sub1models = {\n",
        "    \"finger_0\": models1[0],\n",
        "    \"finger_1\": models1[1],\n",
        "    \"finger_2\": models1[2],\n",
        "    \"finger_3\": models1[3],\n",
        "    \"finger_4\": models1[4]\n",
        "}\n",
        "\n",
        "with open(\"Sub1mods.pkl\", \"wb\") as f:\n",
        "    pickle.dump(sub1models, f)"
      ],
      "metadata": {
        "id": "yzRdo31bboYl"
      },
      "execution_count": 26,
      "outputs": []
    },
    {
      "cell_type": "code",
      "source": [
        "#for subject2\n",
        "raw_ecog2 = data['train_ecog'][1][0] #for second subject\n",
        "filtered_ecog2 = filter_ecog(raw_ecog2) #filtered signal\n",
        "windows2 = get_windows(filtered_ecog2) #separate into windows\n",
        "features2 = calc_features(windows2) # get features\n",
        "raw_dg2 = data['train_dg'][1][0] #for first subject\n",
        "down_dg2 = downsample_dg(raw_dg2, features2)"
      ],
      "metadata": {
        "id": "iHoFDnwkcSI2"
      },
      "execution_count": 27,
      "outputs": []
    },
    {
      "cell_type": "code",
      "source": [
        "from sklearn.linear_model import RidgeCV\n",
        "from sklearn.preprocessing import StandardScaler\n",
        "from sklearn.metrics import r2_score\n",
        "\n",
        "# X: your full feature matrix (samples x features)\n",
        "# y: your downsampled data glove (samples x 5)\n",
        "# Make sure X and y are aligned (same number of rows)\n",
        "\n",
        "# Scale features\n",
        "scaler = StandardScaler()\n",
        "X_scaled = scaler.fit_transform(features2)\n",
        "\n",
        "# Train a separate Ridge model for each finger\n",
        "alphas = np.logspace(-4, 4, 50)\n",
        "models2 = []\n",
        "r2_scores2 = []\n",
        "\n",
        "for i in range(5):  # For each finger\n",
        "    y_finger = down_dg2[:, i]\n",
        "    ridge = RidgeCV(alphas=alphas)\n",
        "    ridge.fit(X_scaled, y_finger)\n",
        "\n",
        "    y_pred = ridge.predict(X_scaled)\n",
        "    score = r2_score(y_finger, y_pred)\n",
        "\n",
        "    models2.append(ridge)\n",
        "    r2_scores2.append(score)\n",
        "\n",
        "    print(f\"Finger {i}: R² = {score:.4f}, Alpha = {ridge.alpha_:.4f}\")"
      ],
      "metadata": {
        "colab": {
          "base_uri": "https://localhost:8080/"
        },
        "id": "mIYkTfmKcT95",
        "outputId": "4af9da3b-897e-4a31-bcf3-8159ca11caa2"
      },
      "execution_count": 28,
      "outputs": [
        {
          "output_type": "stream",
          "name": "stdout",
          "text": [
            "Finger 0: R² = 0.2702, Alpha = 494.1713\n",
            "Finger 1: R² = 0.1711, Alpha = 719.6857\n",
            "Finger 2: R² = 0.1615, Alpha = 1526.4180\n",
            "Finger 3: R² = 0.2488, Alpha = 494.1713\n",
            "Finger 4: R² = 0.1373, Alpha = 1048.1131\n"
          ]
        }
      ]
    },
    {
      "cell_type": "code",
      "source": [
        "import pickle\n",
        "\n",
        "sub2models = {\n",
        "    \"finger_0\": models2[0],\n",
        "    \"finger_1\": models2[1],\n",
        "    \"finger_2\": models2[2],\n",
        "    \"finger_3\": models2[3],\n",
        "    \"finger_4\": models2[4]\n",
        "}\n",
        "\n",
        "with open(\"Sub2mods.pkl\", \"wb\") as f:\n",
        "    pickle.dump(sub2models, f)"
      ],
      "metadata": {
        "id": "bfVblSdYzq-q"
      },
      "execution_count": 29,
      "outputs": []
    },
    {
      "cell_type": "code",
      "source": [
        "#subject 3\n",
        "raw_ecog3 = data['train_ecog'][2][0] #for second subject\n",
        "filtered_ecog3 = filter_ecog(raw_ecog3) #filtered signal\n",
        "windows3 = get_windows(filtered_ecog3) #separate into windows\n",
        "features3 = calc_features(windows3) # get features\n",
        "raw_dg3 = data['train_dg'][2][0] #for first subject\n",
        "down_dg3 = downsample_dg(raw_dg3, features3)"
      ],
      "metadata": {
        "id": "yW5Y03j4z0TI"
      },
      "execution_count": 30,
      "outputs": []
    },
    {
      "cell_type": "code",
      "source": [
        "from sklearn.linear_model import RidgeCV\n",
        "from sklearn.preprocessing import StandardScaler\n",
        "from sklearn.metrics import r2_score\n",
        "\n",
        "# X: your full feature matrix (samples x features)\n",
        "# y: your downsampled data glove (samples x 5)\n",
        "# Make sure X and y are aligned (same number of rows)\n",
        "\n",
        "# Scale features\n",
        "scaler = StandardScaler()\n",
        "X_scaled = scaler.fit_transform(features3)\n",
        "\n",
        "# Train a separate Ridge model for each finger\n",
        "alphas = np.logspace(-4, 4, 50)\n",
        "models3 = []\n",
        "r2_scores3 = []\n",
        "\n",
        "for i in range(5):  # For each finger\n",
        "    y_finger = down_dg3[:, i]\n",
        "    ridge = RidgeCV(alphas=alphas)\n",
        "    ridge.fit(X_scaled, y_finger)\n",
        "\n",
        "    y_pred = ridge.predict(X_scaled)\n",
        "    score = r2_score(y_finger, y_pred)\n",
        "\n",
        "    models3.append(ridge)\n",
        "    r2_scores3.append(score)\n",
        "\n",
        "    print(f\"Finger {i}: R² = {score:.4f}, Alpha = {ridge.alpha_:.4f}\")"
      ],
      "metadata": {
        "colab": {
          "base_uri": "https://localhost:8080/"
        },
        "id": "ZMDLcFRB0GLY",
        "outputId": "28381fef-d925-499a-c1cf-8fca57ebb0e2"
      },
      "execution_count": 31,
      "outputs": [
        {
          "output_type": "stream",
          "name": "stdout",
          "text": [
            "Finger 0: R² = 0.3694, Alpha = 494.1713\n",
            "Finger 1: R² = 0.3403, Alpha = 1048.1131\n",
            "Finger 2: R² = 0.3125, Alpha = 719.6857\n",
            "Finger 3: R² = 0.3803, Alpha = 719.6857\n",
            "Finger 4: R² = 0.3097, Alpha = 1048.1131\n"
          ]
        }
      ]
    },
    {
      "cell_type": "code",
      "source": [
        "import pickle\n",
        "\n",
        "sub3models = {\n",
        "    \"finger_0\": models3[0],\n",
        "    \"finger_1\": models3[1],\n",
        "    \"finger_2\": models3[2],\n",
        "    \"finger_3\": models3[3],\n",
        "    \"finger_4\": models3[4]\n",
        "}\n",
        "\n",
        "with open(\"Sub3mods.pkl\", \"wb\") as f:\n",
        "    pickle.dump(sub3models, f)"
      ],
      "metadata": {
        "id": "j6njgXFj0RBE"
      },
      "execution_count": 32,
      "outputs": []
    },
    {
      "cell_type": "code",
      "source": [
        "#get a model train on all subjects"
      ],
      "metadata": {
        "id": "Qc1Z22t4L5se"
      },
      "execution_count": 65,
      "outputs": []
    }
  ]
}