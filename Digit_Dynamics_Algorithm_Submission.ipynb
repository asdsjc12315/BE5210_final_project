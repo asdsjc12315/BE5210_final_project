{
  "nbformat": 4,
  "nbformat_minor": 0,
  "metadata": {
    "colab": {
      "provenance": []
    },
    "kernelspec": {
      "name": "python3",
      "display_name": "Python 3"
    },
    "language_info": {
      "name": "python"
    }
  },
  "cells": [
    {
      "cell_type": "code",
      "execution_count": 4,
      "metadata": {
        "colab": {
          "base_uri": "https://localhost:8080/"
        },
        "id": "gFbGCRBQmtkM",
        "outputId": "83e74b2f-b5d5-4a04-b119-2112aeac46d5"
      },
      "outputs": [
        {
          "output_type": "stream",
          "name": "stdout",
          "text": [
            "\n",
            "=== Subject 1 ===\n"
          ]
        },
        {
          "output_type": "stream",
          "name": "stderr",
          "text": [
            "Extracting features: 100%|██████████| 2949/2949 [00:14<00:00, 208.50it/s]\n"
          ]
        },
        {
          "output_type": "stream",
          "name": "stdout",
          "text": [
            "\n",
            "=== Subject 2 ===\n"
          ]
        },
        {
          "output_type": "stream",
          "name": "stderr",
          "text": [
            "Extracting features: 100%|██████████| 2949/2949 [00:12<00:00, 230.96it/s]\n"
          ]
        },
        {
          "output_type": "stream",
          "name": "stdout",
          "text": [
            "\n",
            "=== Subject 3 ===\n"
          ]
        },
        {
          "output_type": "stream",
          "name": "stderr",
          "text": [
            "Extracting features: 100%|██████████| 2949/2949 [00:20<00:00, 142.07it/s]\n"
          ]
        },
        {
          "output_type": "stream",
          "name": "stdout",
          "text": [
            "\n",
            "✅ Predictions saved to 'predictions.mat'\n"
          ]
        }
      ],
      "source": [
        "import numpy as np\n",
        "import scipy.io\n",
        "from scipy import signal\n",
        "from sklearn.preprocessing import StandardScaler\n",
        "from sklearn.pipeline import make_pipeline\n",
        "from scipy.interpolate import CubicSpline\n",
        "from sklearn.linear_model import Ridge\n",
        "from scipy.ndimage import gaussian_filter1d\n",
        "from tqdm import tqdm\n",
        "import joblib\n",
        "\n",
        "# ========== Parameters ==========\n",
        "fs = 1000\n",
        "window_len = 100\n",
        "overlap = 50\n",
        "step = window_len - overlap\n",
        "N_wind = 3\n",
        "\n",
        "# ========== Gaussian Smoothing ==========\n",
        "def gaussian_smoothing(pred, sigma=2.25):\n",
        "    pred_smooth = pred.copy()\n",
        "    for i in range(pred.shape[1]):\n",
        "        pred_smooth[:, i] = gaussian_filter1d(pred[:, i], sigma=sigma)\n",
        "    return pred_smooth\n",
        "\n",
        "# ========== Outlier Suppression ==========\n",
        "def suppress_low_outliers(pred, threshold_multiplier=2):\n",
        "    pred_cleaned = pred.copy()\n",
        "    for i in range(pred.shape[1]):\n",
        "        col = pred[:, i]\n",
        "        mean = np.mean(col)\n",
        "        std = np.std(col)\n",
        "        thresh = mean - threshold_multiplier * std\n",
        "        pred_cleaned[:, i] = np.where(col < thresh, 0, col)\n",
        "    return pred_cleaned\n",
        "\n",
        "# ========== Bandpass Filter ==========\n",
        "def bandpass_filter(data, fs, lowcut, highcut, order=4):\n",
        "    nyq = 0.5 * fs\n",
        "    low, high = lowcut/nyq, highcut/nyq\n",
        "    b, a = signal.butter(order, [low, high], btype='band')\n",
        "    return signal.filtfilt(b, a, data, axis=0)\n",
        "\n",
        "# ========== Feature Extraction ==========\n",
        "def get_features(window, fs=1000):\n",
        "    freq_bands = [(5,15),(20,25),(75,115),(125,160),(160,175)]\n",
        "    n_ch = window.shape[1]\n",
        "    feats = np.zeros((n_ch, 6))\n",
        "    feats[:,0] = np.mean(window,axis=0)\n",
        "    for i,(low,high) in enumerate(freq_bands):\n",
        "        bf = bandpass_filter(window, fs, low, high)\n",
        "        feats[:,i+1] = np.mean(np.abs(bf),axis=0)\n",
        "    return feats\n",
        "\n",
        "# ========== Sliding Window ==========\n",
        "def get_windowed_feats(ecog, fs, win_len, overlap):\n",
        "    step = win_len - overlap\n",
        "    n_win = (ecog.shape[0] - overlap)//step\n",
        "    feats = []\n",
        "    for i in tqdm(range(n_win), desc=\"Extracting features\"):\n",
        "        s, e = i*step, i*step+win_len\n",
        "        if e > ecog.shape[0]: break\n",
        "        feats.append(get_features(ecog[s:e,:], fs).flatten())\n",
        "    return np.array(feats)\n",
        "\n",
        "# ========== Create R Matrix ==========\n",
        "def create_R_matrix(features, N_wind):\n",
        "    n_w, n_f = features.shape\n",
        "    pad = np.tile(features[0], (N_wind-1,1))\n",
        "    concat = np.vstack([pad, features])\n",
        "    R = np.zeros((n_w, 1 + N_wind*n_f))\n",
        "    for i in range(n_w):\n",
        "        ctx = concat[i:i+N_wind].flatten()\n",
        "        R[i] = np.concatenate(([1], ctx))\n",
        "    return R\n",
        "\n",
        "\n",
        "# ========== Load model and dataset ==========\n",
        "test_data        = scipy.io.loadmat('truetest_data.mat')\n",
        "test_ecogs       = test_data['truetest_data']\n",
        "models           = joblib.load('ridge_models.joblib')\n",
        "\n",
        "# ========== Get predictions ==========\n",
        "predicted_dg     = np.empty((3,1),dtype=object)\n",
        "\n",
        "for subj_idx in range(3):\n",
        "    print(f\"\\n=== Subject {subj_idx+1} ===\")\n",
        "    # load\n",
        "    ecog_te = test_ecogs[subj_idx].item()\n",
        "    pipeline = models[subj_idx]\n",
        "\n",
        "    # predict\n",
        "    feats_te   = get_windowed_feats(ecog_te, fs, window_len, overlap) #get features\n",
        "    R_te       = create_R_matrix(feats_te, N_wind) #create r matrix\n",
        "    pred = pipeline.predict(R_te[:,1:]) #get predictions\n",
        "\n",
        "    # post-process\n",
        "    pred = suppress_low_outliers(pred, threshold_multiplier=2)\n",
        "    pred = gaussian_smoothing(pred, sigma=2.25)\n",
        "\n",
        "    # upsample back to 1kHz\n",
        "    x_old = np.arange(pred.shape[0]) * step\n",
        "    x_new = np.arange(ecog_te.shape[0])\n",
        "    interp = np.zeros((len(x_new), pred.shape[1]))\n",
        "    for i in range(pred.shape[1]):\n",
        "        cs = CubicSpline(x_old, pred[:,i], bc_type='natural')\n",
        "        interp[:,i] = cs(x_new)\n",
        "\n",
        "    predicted_dg[subj_idx,0] = interp\n",
        "\n",
        "\n",
        "# save\n",
        "scipy.io.savemat('predictions.mat',\n",
        "                 {'predicted_dg': predicted_dg})\n",
        "print(\"\\n✅ Predictions saved to 'predictions.mat'\")\n",
        "\n"
      ]
    }
  ]
}